{
 "cells": [
  {
   "cell_type": "code",
   "execution_count": 1,
   "metadata": {},
   "outputs": [
    {
     "name": "stdout",
     "output_type": "stream",
     "text": [
      "😀\n"
     ]
    }
   ],
   "source": [
    "# grinning face\n",
    "print(\"\\U0001F600\")"
   ]
  },
  {
   "cell_type": "code",
   "execution_count": 6,
   "metadata": {},
   "outputs": [
    {
     "name": "stdout",
     "output_type": "stream",
     "text": [
      "😚\n"
     ]
    }
   ],
   "source": [
    "#kissing face with closed eyes\n",
    "print(\"\\U0001F61A\")"
   ]
  },
  {
   "cell_type": "code",
   "execution_count": 8,
   "metadata": {},
   "outputs": [
    {
     "name": "stdout",
     "output_type": "stream",
     "text": [
      "😃\n"
     ]
    }
   ],
   "source": [
    "#grinning face with big eyes\n",
    "print(\"\\U0001F603\")"
   ]
  },
  {
   "cell_type": "code",
   "execution_count": 10,
   "metadata": {},
   "outputs": [
    {
     "name": "stdout",
     "output_type": "stream",
     "text": [
      "😅\n"
     ]
    }
   ],
   "source": [
    "#grinning face with sweat\n",
    "print(\"\\U0001F605\")"
   ]
  },
  {
   "cell_type": "code",
   "execution_count": 11,
   "metadata": {},
   "outputs": [
    {
     "name": "stdout",
     "output_type": "stream",
     "text": [
      "😆\n"
     ]
    }
   ],
   "source": [
    "#GRINNING SQUINTING FACE\n",
    "print(\"\\U0001F606\")"
   ]
  },
  {
   "cell_type": "code",
   "execution_count": 12,
   "metadata": {},
   "outputs": [
    {
     "name": "stdout",
     "output_type": "stream",
     "text": [
      "😂\n"
     ]
    }
   ],
   "source": [
    "#face with tears of joy\n",
    "print(\"\\U0001F602\")"
   ]
  },
  {
   "cell_type": "code",
   "execution_count": 14,
   "metadata": {},
   "outputs": [
    {
     "name": "stdout",
     "output_type": "stream",
     "text": [
      "😤\n"
     ]
    }
   ],
   "source": [
    "#angry face\n",
    "print(\"\\U0001F624\")"
   ]
  },
  {
   "cell_type": "code",
   "execution_count": 16,
   "metadata": {},
   "outputs": [
    {
     "name": "stdout",
     "output_type": "stream",
     "text": [
      "🙂\n"
     ]
    }
   ],
   "source": [
    "#slightly smiling face\n",
    "print(\"\\U0001F642\")"
   ]
  },
  {
   "cell_type": "code",
   "execution_count": 17,
   "metadata": {},
   "outputs": [
    {
     "name": "stdout",
     "output_type": "stream",
     "text": [
      "🥰\n"
     ]
    }
   ],
   "source": [
    "#smiling face with three hearts\n",
    "print(\"\\U0001F970\")"
   ]
  },
  {
   "cell_type": "code",
   "execution_count": 18,
   "metadata": {},
   "outputs": [
    {
     "name": "stdout",
     "output_type": "stream",
     "text": [
      "🤇\n"
     ]
    }
   ],
   "source": [
    "print(\"\\U0001F907\")"
   ]
  },
  {
   "cell_type": "code",
   "execution_count": 19,
   "metadata": {},
   "outputs": [
    {
     "name": "stdout",
     "output_type": "stream",
     "text": [
      "🁹\n"
     ]
    }
   ],
   "source": [
    "print(\"\\U0001F079\")"
   ]
  },
  {
   "cell_type": "code",
   "execution_count": 20,
   "metadata": {},
   "outputs": [
    {
     "name": "stdout",
     "output_type": "stream",
     "text": [
      "🞐\n"
     ]
    }
   ],
   "source": [
    "print(\"\\U0001F790\")"
   ]
  },
  {
   "cell_type": "code",
   "execution_count": 21,
   "metadata": {},
   "outputs": [
    {
     "name": "stdout",
     "output_type": "stream",
     "text": [
      "🜉\n"
     ]
    }
   ],
   "source": [
    "print(\"\\U0001F709\")"
   ]
  },
  {
   "cell_type": "code",
   "execution_count": 23,
   "metadata": {},
   "outputs": [
    {
     "name": "stdout",
     "output_type": "stream",
     "text": [
      "🤩\n"
     ]
    }
   ],
   "source": [
    "#star-stuck\n",
    "print(\"\\U0001F929\")"
   ]
  },
  {
   "cell_type": "code",
   "execution_count": 24,
   "metadata": {},
   "outputs": [
    {
     "name": "stdout",
     "output_type": "stream",
     "text": [
      "😘\n"
     ]
    }
   ],
   "source": [
    "#face blowing a kiss\n",
    "print(\"\\U0001F618\")"
   ]
  },
  {
   "cell_type": "code",
   "execution_count": 25,
   "metadata": {},
   "outputs": [
    {
     "name": "stdout",
     "output_type": "stream",
     "text": [
      "🚁\n"
     ]
    }
   ],
   "source": [
    "print(\"\\U0001F681\")"
   ]
  },
  {
   "cell_type": "code",
   "execution_count": 26,
   "metadata": {},
   "outputs": [
    {
     "name": "stdout",
     "output_type": "stream",
     "text": [
      "🡡\n"
     ]
    }
   ],
   "source": [
    "print(\"\\U0001F861\")"
   ]
  },
  {
   "cell_type": "code",
   "execution_count": 27,
   "metadata": {},
   "outputs": [
    {
     "name": "stdout",
     "output_type": "stream",
     "text": [
      "🅨\n"
     ]
    }
   ],
   "source": [
    "print(\"\\U0001F168\")"
   ]
  },
  {
   "cell_type": "code",
   "execution_count": 28,
   "metadata": {},
   "outputs": [
    {
     "name": "stdout",
     "output_type": "stream",
     "text": [
      "😛\n"
     ]
    }
   ],
   "source": [
    "#face with tongue\n",
    "print(\"\\U0001F61B\")"
   ]
  },
  {
   "cell_type": "code",
   "execution_count": 30,
   "metadata": {},
   "outputs": [
    {
     "name": "stdout",
     "output_type": "stream",
     "text": [
      "🤪\n"
     ]
    }
   ],
   "source": [
    "print(\"\\U0001F92A\")"
   ]
  },
  {
   "cell_type": "code",
   "execution_count": 31,
   "metadata": {},
   "outputs": [
    {
     "name": "stdout",
     "output_type": "stream",
     "text": [
      "🤢\n"
     ]
    }
   ],
   "source": [
    "#nauseated face\n",
    "print(\"\\U0001F922\")"
   ]
  },
  {
   "cell_type": "code",
   "execution_count": 33,
   "metadata": {},
   "outputs": [
    {
     "name": "stdout",
     "output_type": "stream",
     "text": [
      "🤕\n"
     ]
    }
   ],
   "source": [
    "#face with head_bandage\n",
    "print(\"\\U0001F915\")"
   ]
  },
  {
   "cell_type": "code",
   "execution_count": 34,
   "metadata": {},
   "outputs": [
    {
     "name": "stdout",
     "output_type": "stream",
     "text": [
      "😷\n"
     ]
    }
   ],
   "source": [
    "#face with medical_mask\n",
    "print(\"\\U0001F637\")"
   ]
  },
  {
   "cell_type": "code",
   "execution_count": 35,
   "metadata": {},
   "outputs": [
    {
     "name": "stdout",
     "output_type": "stream",
     "text": [
      "🤒\n"
     ]
    }
   ],
   "source": [
    "#face with thermometer\n",
    "print(\"\\U0001F912\")"
   ]
  },
  {
   "cell_type": "code",
   "execution_count": 36,
   "metadata": {},
   "outputs": [
    {
     "name": "stdout",
     "output_type": "stream",
     "text": [
      "🤤\n"
     ]
    }
   ],
   "source": [
    "#drooling face\n",
    "print(\"\\U0001F924\")"
   ]
  },
  {
   "cell_type": "code",
   "execution_count": 37,
   "metadata": {},
   "outputs": [
    {
     "name": "stdout",
     "output_type": "stream",
     "text": [
      "😴\n"
     ]
    }
   ],
   "source": [
    "#sleeping face\n",
    "print(\"\\U0001F634\")"
   ]
  },
  {
   "cell_type": "code",
   "execution_count": 38,
   "metadata": {},
   "outputs": [
    {
     "name": "stdout",
     "output_type": "stream",
     "text": [
      "🙃\n"
     ]
    }
   ],
   "source": [
    "#slight smile in reverse position\n",
    "print(\"\\U0001F643\")"
   ]
  },
  {
   "cell_type": "code",
   "execution_count": 39,
   "metadata": {},
   "outputs": [
    {
     "name": "stdout",
     "output_type": "stream",
     "text": [
      "🐶\n"
     ]
    }
   ],
   "source": [
    "#dog face\n",
    "print(\"\\U0001F436\")"
   ]
  },
  {
   "cell_type": "code",
   "execution_count": 40,
   "metadata": {},
   "outputs": [
    {
     "name": "stdout",
     "output_type": "stream",
     "text": [
      "👣\n"
     ]
    }
   ],
   "source": [
    "#foot pirnts\n",
    "print(\"\\U0001F463\")"
   ]
  },
  {
   "cell_type": "code",
   "execution_count": 41,
   "metadata": {},
   "outputs": [
    {
     "name": "stdout",
     "output_type": "stream",
     "text": [
      "😔\n"
     ]
    }
   ],
   "source": [
    "#pensive face\n",
    "print(\"\\U0001F614\")"
   ]
  },
  {
   "cell_type": "code",
   "execution_count": 42,
   "metadata": {},
   "outputs": [
    {
     "name": "stdout",
     "output_type": "stream",
     "text": [
      "🙁\n"
     ]
    }
   ],
   "source": [
    "#sad face\n",
    "print(\"\\U0001F641\")"
   ]
  },
  {
   "cell_type": "code",
   "execution_count": 43,
   "metadata": {},
   "outputs": [
    {
     "name": "stdout",
     "output_type": "stream",
     "text": [
      "🅤\n"
     ]
    }
   ],
   "source": [
    "print(\"\\U0001F164\")"
   ]
  },
  {
   "cell_type": "code",
   "execution_count": 44,
   "metadata": {},
   "outputs": [
    {
     "name": "stdout",
     "output_type": "stream",
     "text": [
      "🐖\n"
     ]
    }
   ],
   "source": [
    "#pig\n",
    "print(\"\\U0001F416\")"
   ]
  },
  {
   "cell_type": "code",
   "execution_count": 45,
   "metadata": {},
   "outputs": [
    {
     "name": "stdout",
     "output_type": "stream",
     "text": [
      "👡\n"
     ]
    }
   ],
   "source": [
    "#shoe with heel\n",
    "print(\"\\U0001F461\")"
   ]
  },
  {
   "cell_type": "code",
   "execution_count": 46,
   "metadata": {},
   "outputs": [
    {
     "name": "stdout",
     "output_type": "stream",
     "text": [
      "🎆\n"
     ]
    }
   ],
   "source": [
    "print(\"\\U0001F386\")"
   ]
  },
  {
   "cell_type": "code",
   "execution_count": 47,
   "metadata": {},
   "outputs": [
    {
     "name": "stdout",
     "output_type": "stream",
     "text": [
      "♻\n"
     ]
    }
   ],
   "source": [
    "print(\"\\U0000267B\")"
   ]
  },
  {
   "cell_type": "code",
   "execution_count": 52,
   "metadata": {},
   "outputs": [
    {
     "name": "stdout",
     "output_type": "stream",
     "text": [
      "🍓\n"
     ]
    }
   ],
   "source": [
    "#strawberry\n",
    "print(\"\\U0001F353\")"
   ]
  },
  {
   "cell_type": "code",
   "execution_count": 53,
   "metadata": {},
   "outputs": [
    {
     "name": "stdout",
     "output_type": "stream",
     "text": [
      "🤥\n"
     ]
    }
   ],
   "source": [
    "#lying face\n",
    "print(\"\\U0001F925\")"
   ]
  },
  {
   "cell_type": "code",
   "execution_count": 54,
   "metadata": {},
   "outputs": [
    {
     "name": "stdout",
     "output_type": "stream",
     "text": [
      "🥒\n"
     ]
    }
   ],
   "source": [
    "#bootle guard\n",
    "print(\"\\U0001F952\")"
   ]
  },
  {
   "cell_type": "code",
   "execution_count": 57,
   "metadata": {},
   "outputs": [
    {
     "name": "stdout",
     "output_type": "stream",
     "text": [
      "🔩\n"
     ]
    }
   ],
   "source": [
    "#dumble\n",
    "print(\"\\U0001F529\")"
   ]
  },
  {
   "cell_type": "code",
   "execution_count": 59,
   "metadata": {},
   "outputs": [
    {
     "name": "stdout",
     "output_type": "stream",
     "text": [
      "🥠\n"
     ]
    }
   ],
   "source": [
    "#whistle\n",
    "print(\"\\U0001F960\")"
   ]
  },
  {
   "cell_type": "code",
   "execution_count": 60,
   "metadata": {},
   "outputs": [
    {
     "name": "stdout",
     "output_type": "stream",
     "text": [
      "🞖\n"
     ]
    }
   ],
   "source": [
    "#box with dot\n",
    "print(\"\\U0001F796\")"
   ]
  },
  {
   "cell_type": "code",
   "execution_count": 61,
   "metadata": {},
   "outputs": [
    {
     "name": "stdout",
     "output_type": "stream",
     "text": [
      "🤧\n"
     ]
    }
   ],
   "source": [
    "#Sneeze\n",
    "print(\"\\U0001F927\")"
   ]
  },
  {
   "cell_type": "code",
   "execution_count": 63,
   "metadata": {},
   "outputs": [
    {
     "name": "stdout",
     "output_type": "stream",
     "text": [
      "🕙\n"
     ]
    }
   ],
   "source": [
    "#clock\n",
    "print(\"\\U0001F559\")"
   ]
  },
  {
   "cell_type": "code",
   "execution_count": 64,
   "metadata": {},
   "outputs": [
    {
     "name": "stdout",
     "output_type": "stream",
     "text": [
      "🠅\n"
     ]
    }
   ],
   "source": [
    "#upper arrow\n",
    "print(\"\\U0001F805\")"
   ]
  },
  {
   "cell_type": "code",
   "execution_count": 65,
   "metadata": {},
   "outputs": [
    {
     "name": "stdout",
     "output_type": "stream",
     "text": [
      "🥄\n"
     ]
    }
   ],
   "source": [
    "#spoon\n",
    "print(\"\\U0001F944\")"
   ]
  },
  {
   "cell_type": "code",
   "execution_count": 66,
   "metadata": {},
   "outputs": [
    {
     "name": "stdout",
     "output_type": "stream",
     "text": [
      "😰\n"
     ]
    }
   ],
   "source": [
    "#tension\n",
    "print(\"\\U0001F630\")"
   ]
  },
  {
   "cell_type": "code",
   "execution_count": 67,
   "metadata": {},
   "outputs": [
    {
     "name": "stdout",
     "output_type": "stream",
     "text": [
      "⍋\n"
     ]
    }
   ],
   "source": [
    "#triangle with vertical arrow\n",
    "print(\"\\U0000234B\")"
   ]
  },
  {
   "cell_type": "code",
   "execution_count": 69,
   "metadata": {},
   "outputs": [
    {
     "name": "stdout",
     "output_type": "stream",
     "text": [
      "🆔\n"
     ]
    }
   ],
   "source": [
    "#id\n",
    "print(\"\\U0001F194\")"
   ]
  },
  {
   "cell_type": "code",
   "execution_count": 73,
   "metadata": {},
   "outputs": [
    {
     "name": "stdout",
     "output_type": "stream",
     "text": [
      "🍹\n"
     ]
    }
   ],
   "source": [
    "#ice-cream\n",
    "print(\"\\U0001F379\")"
   ]
  },
  {
   "cell_type": "code",
   "execution_count": 75,
   "metadata": {},
   "outputs": [
    {
     "name": "stdout",
     "output_type": "stream",
     "text": [
      "🐡\n"
     ]
    }
   ],
   "source": [
    "#fish\n",
    "print(\"\\U0001F421\")"
   ]
  },
  {
   "cell_type": "code",
   "execution_count": null,
   "metadata": {},
   "outputs": [],
   "source": []
  }
 ],
 "metadata": {
  "kernelspec": {
   "display_name": "Python 3",
   "language": "python",
   "name": "python3"
  },
  "language_info": {
   "codemirror_mode": {
    "name": "ipython",
    "version": 3
   },
   "file_extension": ".py",
   "mimetype": "text/x-python",
   "name": "python",
   "nbconvert_exporter": "python",
   "pygments_lexer": "ipython3",
   "version": "3.7.4"
  }
 },
 "nbformat": 4,
 "nbformat_minor": 2
}
